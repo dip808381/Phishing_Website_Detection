{
 "cells": [
  {
   "cell_type": "code",
   "execution_count": 1,
   "metadata": {},
   "outputs": [
    {
     "name": "stdout",
     "output_type": "stream",
     "text": [
      "30\n"
     ]
    }
   ],
   "source": [
    "x = 10\n",
    "y = 20\n",
    "z = x + y\n",
    "print(z)"
   ]
  },
  {
   "cell_type": "code",
   "execution_count": 28,
   "metadata": {},
   "outputs": [
    {
     "name": "stdout",
     "output_type": "stream",
     "text": [
      "Enter Your Name: \n",
      "Dipesh Barai\n",
      "Your Name is: Dipesh Barai\n",
      "Thank You\n"
     ]
    }
   ],
   "source": [
    "name = input(\"Enter Your Name: \\n\")\n",
    "print(\"Your Name is:\", name)\n",
    "print(\"Thank You\")"
   ]
  },
  {
   "cell_type": "code",
   "execution_count": 16,
   "metadata": {},
   "outputs": [
    {
     "name": "stdout",
     "output_type": "stream",
     "text": [
      "2\n",
      "2\n",
      "22\n"
     ]
    }
   ],
   "source": [
    "x = input()\n",
    "y = input()\n",
    "z = x + y\n",
    "print(z)"
   ]
  },
  {
   "cell_type": "markdown",
   "metadata": {},
   "source": [
    "# Integer"
   ]
  },
  {
   "cell_type": "code",
   "execution_count": 8,
   "metadata": {},
   "outputs": [
    {
     "name": "stdout",
     "output_type": "stream",
     "text": [
      "Enter The 1st Number: 10\n",
      "Enter The 2nd number: 10\n",
      "20\n"
     ]
    }
   ],
   "source": [
    "x = input(\"Enter The 1st Number: \")\n",
    "a = int(x)\n",
    "y = input(\"Enter The 2nd number: \")\n",
    "b = int(y)\n",
    "z = a + b\n",
    "print(z)"
   ]
  },
  {
   "cell_type": "markdown",
   "metadata": {},
   "source": [
    "# Float"
   ]
  },
  {
   "cell_type": "code",
   "execution_count": 23,
   "metadata": {},
   "outputs": [
    {
     "name": "stdout",
     "output_type": "stream",
     "text": [
      "Enter The 1st Number: 6.6\n",
      "Enter The 2nd number: 6.6\n",
      "13.2\n"
     ]
    }
   ],
   "source": [
    "x = input(\"Enter The 1st Number: \")\n",
    "a = float(x)\n",
    "y = input(\"Enter The 2nd number: \")\n",
    "b = float(y)\n",
    "z = a + b\n",
    "print(z)"
   ]
  },
  {
   "cell_type": "markdown",
   "metadata": {},
   "source": [
    "# Print type Change"
   ]
  },
  {
   "cell_type": "code",
   "execution_count": 19,
   "metadata": {
    "scrolled": true
   },
   "outputs": [
    {
     "name": "stdout",
     "output_type": "stream",
     "text": [
      "Enter The 1st Number: 5\n",
      "Enter The 2nd number: 6\n"
     ]
    },
    {
     "ename": "TypeError",
     "evalue": "can only concatenate str (not \"int\") to str",
     "output_type": "error",
     "traceback": [
      "\u001b[1;31m---------------------------------------------------------------------------\u001b[0m",
      "\u001b[1;31mTypeError\u001b[0m                                 Traceback (most recent call last)",
      "\u001b[1;32m<ipython-input-19-edffd8834325>\u001b[0m in \u001b[0;36m<module>\u001b[1;34m\u001b[0m\n\u001b[0;32m      4\u001b[0m \u001b[0mb\u001b[0m \u001b[1;33m=\u001b[0m \u001b[0mint\u001b[0m\u001b[1;33m(\u001b[0m\u001b[0my\u001b[0m\u001b[1;33m)\u001b[0m\u001b[1;33m\u001b[0m\u001b[1;33m\u001b[0m\u001b[0m\n\u001b[0;32m      5\u001b[0m \u001b[0mz\u001b[0m \u001b[1;33m=\u001b[0m \u001b[0ma\u001b[0m \u001b[1;33m+\u001b[0m \u001b[0mb\u001b[0m\u001b[1;33m\u001b[0m\u001b[1;33m\u001b[0m\u001b[0m\n\u001b[1;32m----> 6\u001b[1;33m \u001b[0mprint\u001b[0m\u001b[1;33m(\u001b[0m\u001b[1;34m\"The Sum of this two Number is:\"\u001b[0m \u001b[1;33m+\u001b[0m \u001b[0mz\u001b[0m\u001b[1;33m)\u001b[0m\u001b[1;33m\u001b[0m\u001b[1;33m\u001b[0m\u001b[0m\n\u001b[0m",
      "\u001b[1;31mTypeError\u001b[0m: can only concatenate str (not \"int\") to str"
     ]
    }
   ],
   "source": [
    "x = input(\"Enter The 1st Number: \")\n",
    "a = int(x)\n",
    "y = input(\"Enter The 2nd number: \")\n",
    "b = int(y)\n",
    "z = a + b\n",
    "print(\"The Sum of this two Number is:\" + z)"
   ]
  },
  {
   "cell_type": "code",
   "execution_count": 21,
   "metadata": {},
   "outputs": [
    {
     "name": "stdout",
     "output_type": "stream",
     "text": [
      "Enter The 1st Number: 6\n",
      "Enter The 2nd number: 6\n",
      "The Sum of this two Number is:12\n"
     ]
    }
   ],
   "source": [
    "x = input(\"Enter The 1st Number: \")\n",
    "a = int(x)\n",
    "y = input(\"Enter The 2nd number: \")\n",
    "b = int(y)\n",
    "z = a + b\n",
    "print(\"The Sum of this two Number is:\" + str(z))"
   ]
  },
  {
   "cell_type": "markdown",
   "metadata": {},
   "source": [
    "# Type"
   ]
  },
  {
   "cell_type": "code",
   "execution_count": 7,
   "metadata": {},
   "outputs": [
    {
     "name": "stdout",
     "output_type": "stream",
     "text": [
      "Enter The 1st Number: 10\n",
      "<class 'int'>\n",
      "Enter The 1st Number: 10\n",
      "<class 'int'>\n",
      "20\n"
     ]
    }
   ],
   "source": [
    "x = int(input(\"Enter The 1st Number: \"))\n",
    "print(type(x))\n",
    "y = int(input(\"Enter The 1st Number: \"))\n",
    "print(type(x))\n",
    "z = x + y\n",
    "print(z)"
   ]
  },
  {
   "cell_type": "markdown",
   "metadata": {},
   "source": [
    "# End Function"
   ]
  },
  {
   "cell_type": "code",
   "execution_count": 15,
   "metadata": {},
   "outputs": [
    {
     "name": "stdout",
     "output_type": "stream",
     "text": [
      "Enter Your Name: kjkj\n",
      "Enter Your Title: kjbjk\n",
      "Hello, kjkj kjbjk\n"
     ]
    }
   ],
   "source": [
    "x = input(\"Enter Your Name: \")\n",
    "y = input(\"Enter Your Title: \")\n",
    "print(\"Hello,\", end = ' ')\n",
    "z = x +\" \"+ y\n",
    "print(z)"
   ]
  },
  {
   "cell_type": "markdown",
   "metadata": {},
   "source": [
    "# Split Functions"
   ]
  },
  {
   "cell_type": "code",
   "execution_count": 9,
   "metadata": {},
   "outputs": [
    {
     "name": "stdout",
     "output_type": "stream",
     "text": [
      "Enter Your Name: Dipesh Barai\n",
      "Dipesh\n"
     ]
    }
   ],
   "source": [
    "x = input('Enter Your Name: ')\n",
    "y = x.split(' ')\n",
    "print(y[0])"
   ]
  },
  {
   "cell_type": "code",
   "execution_count": 10,
   "metadata": {},
   "outputs": [
    {
     "name": "stdout",
     "output_type": "stream",
     "text": [
      "Enter Your Email: dipesh@gmail.com\n",
      "dipesh\n"
     ]
    }
   ],
   "source": [
    "x = input('Enter Your Email: ')\n",
    "y = x.split('@')\n",
    "print(y[0])"
   ]
  },
  {
   "cell_type": "markdown",
   "metadata": {},
   "source": [
    "# Evaluate Functions"
   ]
  },
  {
   "cell_type": "code",
   "execution_count": 24,
   "metadata": {},
   "outputs": [
    {
     "name": "stdout",
     "output_type": "stream",
     "text": [
      "Enter The Expression: 5+58+5\n",
      "68\n"
     ]
    }
   ],
   "source": [
    "value = eval (input('Enter The Expression: '))\n",
    "print(value)"
   ]
  },
  {
   "cell_type": "code",
   "execution_count": 32,
   "metadata": {},
   "outputs": [
    {
     "name": "stdout",
     "output_type": "stream",
     "text": [
      "Enter The 1st Number: 36\n",
      "Enter The 2nd number: 36\n",
      "The Sum of 36 and 36 is 3636\n"
     ]
    }
   ],
   "source": [
    "num1 = input(\"Enter The 1st Number: \")\n",
    "num2 = input(\"Enter The 2nd number: \")\n",
    "print(f\"The Sum of {num1} and {num2} is {num1 + num2}\")"
   ]
  },
  {
   "cell_type": "markdown",
   "metadata": {},
   "source": [
    "# Print Functions"
   ]
  },
  {
   "cell_type": "code",
   "execution_count": 36,
   "metadata": {},
   "outputs": [
    {
     "name": "stdout",
     "output_type": "stream",
     "text": [
      "Hello World\n"
     ]
    }
   ],
   "source": [
    "print(\"Hello World\")"
   ]
  },
  {
   "cell_type": "markdown",
   "metadata": {},
   "source": [
    "### Definition and Usage\n",
    "The print() function prints the specified message to the screen, or other standard output device.\n",
    "\n",
    "The message can be a string, or any other object, the object will be converted into a string before written to the screen."
   ]
  },
  {
   "cell_type": "markdown",
   "metadata": {},
   "source": [
    "## Syntax\n",
    "print(object(s), sep=separator, end=end, file=file, flush=flush)"
   ]
  },
  {
   "cell_type": "code",
   "execution_count": 37,
   "metadata": {},
   "outputs": [
    {
     "name": "stdout",
     "output_type": "stream",
     "text": [
      "Hello how are you?\n"
     ]
    }
   ],
   "source": [
    "print(\"Hello\", \"how are you?\")"
   ]
  },
  {
   "cell_type": "code",
   "execution_count": 38,
   "metadata": {},
   "outputs": [
    {
     "name": "stdout",
     "output_type": "stream",
     "text": [
      "('apple', 'banana', 'cherry')\n"
     ]
    }
   ],
   "source": [
    "x = (\"apple\", \"banana\", \"cherry\")\n",
    "print(x)"
   ]
  },
  {
   "cell_type": "markdown",
   "metadata": {},
   "source": [
    "## More about the Print Functions\n",
    "- format\n",
    "- end and step"
   ]
  },
  {
   "cell_type": "code",
   "execution_count": 39,
   "metadata": {},
   "outputs": [
    {
     "name": "stdout",
     "output_type": "stream",
     "text": [
      "Indian Cyber Security\n"
     ]
    }
   ],
   "source": [
    "print(\"Indian\", \"Cyber\", \"Security\")"
   ]
  },
  {
   "cell_type": "code",
   "execution_count": 43,
   "metadata": {},
   "outputs": [
    {
     "name": "stdout",
     "output_type": "stream",
     "text": [
      "Indian\n",
      "Cyber\n",
      "Security\n"
     ]
    }
   ],
   "source": [
    "print(\"Indian\", \"Cyber\", \"Security\", sep = \"\\n\")"
   ]
  },
  {
   "cell_type": "code",
   "execution_count": 48,
   "metadata": {},
   "outputs": [
    {
     "name": "stdout",
     "output_type": "stream",
     "text": [
      "Indian,Cyber,security\n"
     ]
    }
   ],
   "source": [
    "a = \"Indian\"\n",
    "b = \"Cyber\"\n",
    "c = \"security\"\n",
    "print(a, end = \",\")\n",
    "print(b, end = \",\")\n",
    "print(c)"
   ]
  },
  {
   "cell_type": "code",
   "execution_count": 58,
   "metadata": {},
   "outputs": [
    {
     "name": "stdout",
     "output_type": "stream",
     "text": [
      "My institute name is Indian Cyber security\n"
     ]
    }
   ],
   "source": [
    "a = \"Indian\"\n",
    "b = \"Cyber\"\n",
    "c = \"security\"\n",
    "print(\"My institute name is {} {} {}\".format(a, b, c))"
   ]
  },
  {
   "cell_type": "code",
   "execution_count": 33,
   "metadata": {},
   "outputs": [
    {
     "data": {
      "text/plain": [
       "160"
      ]
     },
     "execution_count": 33,
     "metadata": {},
     "output_type": "execute_result"
    }
   ],
   "source": [
    "lst = [20, 30, 60, 50]\n",
    "def plus(a):\n",
    "    num = 0\n",
    "    for i in a:\n",
    "        num = num + i\n",
    "    return num\n",
    "plus(lst)"
   ]
  },
  {
   "cell_type": "code",
   "execution_count": 34,
   "metadata": {},
   "outputs": [
    {
     "data": {
      "text/plain": [
       "160"
      ]
     },
     "execution_count": 34,
     "metadata": {},
     "output_type": "execute_result"
    }
   ],
   "source": [
    "sum(lst)"
   ]
  },
  {
   "cell_type": "code",
   "execution_count": 35,
   "metadata": {},
   "outputs": [
    {
     "data": {
      "text/plain": [
       "160"
      ]
     },
     "execution_count": 35,
     "metadata": {},
     "output_type": "execute_result"
    }
   ],
   "source": [
    "plus(lst)"
   ]
  },
  {
   "cell_type": "code",
   "execution_count": null,
   "metadata": {},
   "outputs": [],
   "source": []
  }
 ],
 "metadata": {
  "kernelspec": {
   "display_name": "Python 3",
   "language": "python",
   "name": "python3"
  },
  "language_info": {
   "codemirror_mode": {
    "name": "ipython",
    "version": 3
   },
   "file_extension": ".py",
   "mimetype": "text/x-python",
   "name": "python",
   "nbconvert_exporter": "python",
   "pygments_lexer": "ipython3",
   "version": "3.7.6"
  }
 },
 "nbformat": 4,
 "nbformat_minor": 4
}
